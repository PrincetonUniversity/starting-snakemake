{
 "cells": [
  {
   "cell_type": "markdown",
   "metadata": {},
   "source": [
    "# Word Frequency Analysis\n",
    "This notebook downloads text from a URL and analyzes word frequencies."
   ]
  },
  {
   "cell_type": "code",
   "execution_count": null,
   "metadata": {},
   "outputs": [],
   "source": [
    "# download the data\n",
    "!mkdir -p data\n",
    "!curl -o data/princeton.html https://www.princeton.edu/"
   ]
  },
  {
   "cell_type": "code",
   "execution_count": null,
   "metadata": {},
   "outputs": [],
   "source": [
    "# strip html tags, one word per line\n",
    "!sed '/^ *<script/d ; s/<[^>]*>//g ; s/[^a-zA-Z]\\+/\\n/g' data/princeton.html  | \\\n",
    "  grep -v '^$' > data/princeton_words.txt\n",
    "\n",
    "!head -n 5 data/princeton_words.txt"
   ]
  },
  {
   "cell_type": "code",
   "execution_count": null,
   "metadata": {},
   "outputs": [],
   "source": [
    "import pandas as pd\n",
    "from collections import Counter\n",
    "\n",
    "# read the words, counting frequency\n",
    "word_counts = Counter(line.strip().lower() for line in open('data/princeton_words.txt'))\n",
    "df = pd.DataFrame.from_dict(word_counts, orient='index', columns=['count']).reset_index(names='word').sort_values('count', ascending=False)\n",
    "df"
   ]
  },
  {
   "cell_type": "code",
   "execution_count": null,
   "metadata": {},
   "outputs": [],
   "source": [
    "df.iloc[:20].plot.bar(x='word', y='count')"
   ]
  },
  {
   "cell_type": "code",
   "execution_count": null,
   "metadata": {},
   "outputs": [],
   "source": [
    "# longer words\n",
    "df[df.word.str.len() > 4].iloc[:20].plot.bar(x='word', y='count')"
   ]
  },
  {
   "cell_type": "code",
   "execution_count": null,
   "metadata": {},
   "outputs": [],
   "source": []
  }
 ],
 "metadata": {
  "kernelspec": {
   "display_name": "Python 3 (ipykernel)",
   "language": "python",
   "name": "python3"
  },
  "language_info": {
   "codemirror_mode": {
    "name": "ipython",
    "version": 3
   },
   "file_extension": ".py",
   "mimetype": "text/x-python",
   "name": "python",
   "nbconvert_exporter": "python",
   "pygments_lexer": "ipython3",
   "version": "3.12.9"
  }
 },
 "nbformat": 4,
 "nbformat_minor": 4
}
