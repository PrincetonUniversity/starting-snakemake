{
 "cells": [
  {
   "cell_type": "markdown",
   "metadata": {},
   "source": [
    "# Wikipedia Word Frequency Analysis\n",
    "This notebook downloads text from multiple URLs and analyzes word frequencies."
   ]
  },
  {
   "cell_type": "code",
   "execution_count": null,
   "metadata": {},
   "outputs": [],
   "source": [
    "!curl -o data/princeton.html {URLS[0]}"
   ]
  },
  {
   "cell_type": "code",
   "execution_count": null,
   "metadata": {},
   "outputs": [],
   "source": [
    "!cat data/princeton.html 2>/dev/null | \\\n",
    "sed 's/<[^>]*>//g' | \\\n",
    "tr '[:upper:]' '[:lower:]' | \\\n",
    "tr -cs '[:alpha:]' '\\n' | \\\n",
    "grep -v \"^$\" | \\\n",
    "sort | \\\n",
    "uniq -c | \\\n",
    "sort -nr | \\\n",
    "sed 's/^ *//g' | \\\n",
    "awk '{print $2 \",\" $1}' > data/wordcount.csv\n",
    "\n",
    "!head -n 5 data/wordcount.csv"
   ]
  },
  {
   "cell_type": "code",
   "execution_count": null,
   "metadata": {},
   "outputs": [],
   "source": [
    "import matplotlib.pyplot as plt\n",
    "import pandas as pd\n",
    "\n",
    "# Read the CSV data\n",
    "df = pd.read_csv('data/wordcount.csv', header=None, names=['word', 'frequency'])\n",
    "\n",
    "# Plot top 20 words\n",
    "plt.figure(figsize=(12, 6))\n",
    "plt.bar(df['word'][:20], df['frequency'][:20])\n",
    "plt.xticks(rotation=90)\n",
    "plt.title(\"Top 20 Most Frequent Words on Princeton.edu\")\n",
    "plt.ylabel(\"Frequency\")\n",
    "plt.xlabel(\"Words\")\n",
    "plt.tight_layout()\n",
    "plt.show()"
   ]
  }
 ],
 "metadata": {
  "kernelspec": {
   "display_name": "3.10.9",
   "language": "python",
   "name": "python3"
  },
  "language_info": {
   "codemirror_mode": {
    "name": "ipython",
    "version": 3
   },
   "file_extension": ".py",
   "mimetype": "text/x-python",
   "name": "python",
   "nbconvert_exporter": "python",
   "pygments_lexer": "ipython3",
   "version": "3.10.9"
  }
 },
 "nbformat": 4,
 "nbformat_minor": 2
}
